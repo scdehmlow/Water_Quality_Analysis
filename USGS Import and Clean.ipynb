{
 "cells": [
  {
   "cell_type": "markdown",
   "metadata": {},
   "source": [
    "# USGS Data Importing and Cleaning"
   ]
  },
  {
   "cell_type": "markdown",
   "metadata": {},
   "source": [
    "The goal of this project is to assess the health of the watershed and to predict the major stresses to the surface water of Salt Creek, and ultimately Lake Michigan.  The state of Indiana (IDEM’s Office of Water Quality) views the following parameters as the most important in determining the health of the surface water: E. coli, Total suspended solids (TSS), Total Phosphorus (TP) and Total Nitrogen (TN).  Our study includes measurements of the first two, E. coli and TSS.  The Total Maximum Daily Loads (TMDL) for E. coli and TSS, according to IDEM, are 235 units/100 mL and 30 mg/L.  Therefore, one question is what other parameters correlate with values above the TMDL levels of E. coli and TSS?"
   ]
  },
  {
   "cell_type": "markdown",
   "metadata": {},
   "source": [
    "This notebook walks through the steps to import water quality data from the USGS to supplement the data collected by Valparaiso University and associated schools.\n",
    "\n",
    "Data is downloaded in the form of a csv file which is then imported into a pandas dataframe. Pandas is then used to perform operations on the data in order to clean it and get it into a workable format for future data analysis."
   ]
  },
  {
   "cell_type": "markdown",
   "metadata": {},
   "source": [
    "http://shahramabyari.com/2016/01/19/detecting-outliers-in-high-dimensional-data-sets/ -- outlier detection link"
   ]
  },
  {
   "cell_type": "code",
   "execution_count": 176,
   "metadata": {},
   "outputs": [],
   "source": [
    "import pandas as pd                # common python statistics library\n",
    "import seaborn as sns              # supplemental plotting library for visualizaitons with built-in data analytics\n",
    "import numpy as np                 # python library for numerical calculations and matrix operations\n",
    "import matplotlib.pyplot as plt    # common python plotting library\n",
    "%matplotlib inline                 \n",
    "from IPython.display import display, HTML       # ipython functions to display data nicer\n",
    "#from pandas_summary import DataFrameSummary     # extra pandas function to summarize data statistics\n",
    "\n",
    "# Disable some warnings that clutter the notebook output\n",
    "pd.options.mode.chained_assignment = None  # default='warn'\n",
    "import warnings\n",
    "warnings.filterwarnings('ignore')\n",
    "\n",
    "# Imports custom functions from the USGS_functions.py file, documentation is available in that file\n",
    "from USGS_functions import drop_constant_cols, fix_timezones, merge_scale_delete, outlier_std\n",
    "#%load_ext autoreload        # Jupyter notebook setting to automatically\n",
    "#%autoreload 2               # reload function file when a cell is run"
   ]
  },
  {
   "cell_type": "markdown",
   "metadata": {},
   "source": [
    "# Data Downloading\n",
    "Downloads data from waterqualitydata.us for the state of Indiana with a chosen set of characteristics. The urls provided can be modified to download different characteristics or download data from other states. All options and additional instructions can be found at waterqualitydata.us.\n",
    "\n",
    "The ```result_site``` url contains data for each characteristic. The ```sites_site``` contains data for each collection site, notably the sites location. The location data will be added in the future and may move to a different notebook.\n",
    "\n",
    "This notebook should work with data from any state however it currently expects the specified characteristics. Extensibility to other characteristics will be added in the future."
   ]
  },
  {
   "cell_type": "code",
   "execution_count": 177,
   "metadata": {
    "collapsed": true
   },
   "outputs": [],
   "source": [
    "sites_site = 'https://www.waterqualitydata.us/Station/search?statecode=US%3A18&characteristicName=Temperature%2C%20water&characteristicName=Barometric%20pressure&characteristicName=Dissolved%20oxygen&characteristicName=Conductivity&characteristicName=Escherichia%20coli&characteristicName=pH&characteristicName=Chlorine&characteristicName=Nitrate&characteristicName=Sulfate&characteristicName=Total%20suspended%20solids&characteristicName=Temperature%2C%20air&characteristicName=Wind%20direction%20(direction%20from%2C%20expressed%200-360%20deg)&characteristicName=Wind%20velocity&characteristicName=Soil%20Water&characteristicName=Precipitation&characteristicName=Cloud%20cover&characteristicName=Flow&characteristicName=Measured%20reach%20length&characteristicName=Floating%20algae%20mat%20-%20severity%20(choice%20list)&characteristicName=Algae%2C%20substrate%20rock%2Fbank%20cover%20(choice%20list)&characteristicName=RBP2%2C%20Habitat%20type%2C%20vegetated%20banks%20(%25)&characteristicName=RBP%20Local%20Watershed%20NPS%20Pollution%20(choice%20list)&characteristicName=Amount%20of%20Refuse%20on%20Banks%20(choice%20list)&characteristicName=Floating%20Garbage%20Severity%20(choice%20List)&characteristicName=Floating%20debris%20-%20severity%20(choice%20list)&characteristicName=NPS%20POLLUTION%20-%20Wildlife%20Present%20(Y%2FN)&characteristicName=NPS%20POLLUTION%20-%20Domestic%20Pets%20Present%20(Y%2FN)&characteristicName=DomLandUse&characteristicName=Species%20Rank&characteristicName=Depth&characteristicName=Turbidity&mimeType=csv&zip=yes&sorted=no'\n",
    "result_site = 'https://www.waterqualitydata.us/Result/search?characteristicName=Temperature%2C%20water&characteristicName=Barometric%20pressure&characteristicName=Dissolved%20oxygen&characteristicName=Conductivity&characteristicName=Escherichia%20coli&characteristicName=pH&characteristicName=Chlorine&characteristicName=Nitrate&characteristicName=Sulfate&characteristicName=Total%20suspended%20solids&characteristicName=Temperature%2C%20air&characteristicName=Wind%20direction%20(direction%20from%2C%20expressed%200-360%20deg)&characteristicName=Wind%20velocity&characteristicName=Soil%20Water&characteristicName=Precipitation&characteristicName=Cloud%20cover&characteristicName=Flow&characteristicName=Measured%20reach%20length&characteristicName=Floating%20algae%20mat%20-%20severity%20(choice%20list)&characteristicName=Algae%2C%20substrate%20rock%2Fbank%20cover%20(choice%20list)&characteristicName=RBP2%2C%20Habitat%20type%2C%20vegetated%20banks%20(%25)&characteristicName=RBP%20Local%20Watershed%20NPS%20Pollution%20(choice%20list)&characteristicName=Amount%20of%20Refuse%20on%20Banks%20(choice%20list)&characteristicName=Floating%20Garbage%20Severity%20(choice%20List)&characteristicName=Floating%20debris%20-%20severity%20(choice%20list)&characteristicName=NPS%20POLLUTION%20-%20Wildlife%20Present%20(Y%2FN)&characteristicName=NPS%20POLLUTION%20-%20Domestic%20Pets%20Present%20(Y%2FN)&characteristicName=DomLandUse&characteristicName=Species%20Rank&characteristicName=Depth&characteristicName=Turbidity&mimeType=csv&zip=yes&sorted=no'"
   ]
  },
  {
   "cell_type": "code",
   "execution_count": null,
   "metadata": {
    "collapsed": true
   },
   "outputs": [],
   "source": []
  },
  {
   "cell_type": "code",
   "execution_count": 178,
   "metadata": {},
   "outputs": [
    {
     "name": "stdout",
     "output_type": "stream",
     "text": [
      "Timezone column: ActivityStartTime/TimeZoneCode deleted...\n",
      "\n",
      "ResultTimeBasisText deleted...\n",
      "[nan '          ']\n",
      "ResultParticleSizeBasisText deleted...\n",
      "[ nan]\n",
      "SubjectTaxonomicName deleted...\n",
      "[ nan]\n",
      "SampleTissueAnatomyName deleted...\n",
      "[ nan]\n",
      "Finished----------------------------------------------------------\n"
     ]
    }
   ],
   "source": [
    "# import csv file to pandas dataframe and parse dates\n",
    "df = pd.read_csv('result.csv', parse_dates=[['ActivityStartDate',\n",
    "                                             r'ActivityStartTime/Time']])\n",
    "df = df.rename(columns={r'ActivityStartDate_ActivityStartTime/Time':'dateTime'}) # rename parsed date column\n",
    "df['dateTime'] = pd.to_datetime(df['dateTime'], errors='coerce')                 # convert date column to datetime\n",
    "df = fix_timezones(df, 'dateTime', r'ActivityStartTime/TimeZoneCode')            # \n",
    "\n",
    "df = drop_constant_cols(df,2) # deletes columns with 2 or less unique values\n",
    "\n",
    "# Add units to characteristic name and then drop unit column\n",
    "df['CharacteristicName'] = df['CharacteristicName'] +' '+'['+ \\\n",
    "                                                     df['ResultMeasure/MeasureUnitCode'].astype(str).str.rstrip()+']'\n",
    "df.drop('ResultMeasure/MeasureUnitCode', axis=1, inplace=True)"
   ]
  },
  {
   "cell_type": "markdown",
   "metadata": {
    "collapsed": true
   },
   "source": [
    "## Reshape the data\n",
    "The data must now be reshaped to a format where each characteristic is its own column and the entries are indexed by the datetime and the location as a multindex. This data is stored in a new dataframe."
   ]
  },
  {
   "cell_type": "code",
   "execution_count": 179,
   "metadata": {
    "collapsed": true
   },
   "outputs": [],
   "source": [
    "dfCharacteristics = df.pivot_table(index=['MonitoringLocationIdentifier', 'dateTime'], columns='CharacteristicName', \n",
    "                             values='ResultMeasureValue', aggfunc='first').copy()\n",
    "dfCharacteristics = dfCharacteristics.apply(pd.to_numeric, errors='ignore').copy() # Convert all numeric columns\n",
    "dfCharacteristics.dropna(axis=0,how='all', inplace=True)                           # Delete empty Rows\n",
    "dfCharacteristics.dropna(axis=1,how='all', inplace=True)                           # Delete empty Columns"
   ]
  },
  {
   "cell_type": "markdown",
   "metadata": {},
   "source": [
    "# Fixing Units\n",
    "First the column names are listed to verify that there are duplicates or characteristics with different units. Next the units are converted and then finally the columns are merged. This is done for each of the characteristics in the data."
   ]
  },
  {
   "cell_type": "code",
   "execution_count": 180,
   "metadata": {},
   "outputs": [
    {
     "data": {
      "text/plain": [
       "['Barometric pressure [mm/Hg]',\n",
       " 'Chlorine [mg/l]',\n",
       " 'Chlorine [ug/l]',\n",
       " 'Conductivity [uS/cm]',\n",
       " 'Conductivity [umho/cm]',\n",
       " 'Depth [cm]',\n",
       " 'Depth [ft]',\n",
       " 'Depth [m]',\n",
       " 'Escherichia coli [#/100ml]',\n",
       " 'Escherichia coli [CFU]',\n",
       " 'Escherichia coli [MPN/100 ml]',\n",
       " 'Escherichia coli [MPN/100ml]',\n",
       " 'Escherichia coli [cfu/100ml]',\n",
       " 'Escherichia coli [ug/l]',\n",
       " 'Floating Garbage Severity (choice List) [code]',\n",
       " 'Floating algae mat - severity (choice list) [code]',\n",
       " 'Floating debris - severity (choice list) [code]',\n",
       " 'Flow [cfs]',\n",
       " 'Flow [ft3/sec]',\n",
       " 'Flow [m3/sec]',\n",
       " 'Nitrate [mg/kg as N]',\n",
       " 'Nitrate [mg/l as N]',\n",
       " 'Nitrate [mg/l asNO3]',\n",
       " 'Nitrate [mg/l]',\n",
       " 'Nitrate [ppb]',\n",
       " 'Nitrate [ueq/L]',\n",
       " 'Precipitation [in/week]',\n",
       " 'Precipitation [in]',\n",
       " 'Sulfate [mg/kg]',\n",
       " 'Sulfate [mg/l]',\n",
       " 'Sulfate [ppm]',\n",
       " 'Sulfate [ueq/L]',\n",
       " 'Temperature, air [deg C]',\n",
       " 'Temperature, water [deg C]',\n",
       " 'Total suspended solids [mg/l]',\n",
       " 'Turbidity [FNRU]',\n",
       " 'Turbidity [FNU]',\n",
       " 'Turbidity [JTU]',\n",
       " 'Turbidity [NTRU]',\n",
       " 'Turbidity [NTU]',\n",
       " 'Turbidity [None]',\n",
       " 'Turbidity [mg/l SiO2]',\n",
       " 'Turbidity [mg/l]',\n",
       " 'Turbidity [pCi/L]',\n",
       " 'Turbidity [pg/l]',\n",
       " 'Wind direction (direction from, expressed 0-360 deg) [Deg]',\n",
       " 'Wind velocity [m/sec]',\n",
       " 'Wind velocity [mph]',\n",
       " 'pH [None]',\n",
       " 'pH []',\n",
       " 'pH [mg/l]',\n",
       " 'pH [std units]']"
      ]
     },
     "execution_count": 180,
     "metadata": {},
     "output_type": "execute_result"
    }
   ],
   "source": [
    "list(dfCharacteristics) # prints the names of columns in the chatacteristics dataframe."
   ]
  },
  {
   "cell_type": "markdown",
   "metadata": {},
   "source": [
    "# Barometric pressure\n",
    "Barometric pressure is only listed in units of mm/Hg therefore no merging needs to be performed. "
   ]
  },
  {
   "cell_type": "markdown",
   "metadata": {},
   "source": [
    "### Removing Outliers"
   ]
  },
  {
   "cell_type": "code",
   "execution_count": 181,
   "metadata": {
    "scrolled": false
   },
   "outputs": [
    {
     "name": "stdout",
     "output_type": "stream",
     "text": [
      "Before Mean=747.636110 ----- After Mean=748.114196\n",
      "11 points deleted out of 174763 total.----------------------\n"
     ]
    }
   ],
   "source": [
    "dfCharacteristics['Barometric pressure [mm/Hg]'] = \\\n",
    "                                            outlier_std(dfCharacteristics['Barometric pressure [mm/Hg]'],3,plot=False)"
   ]
  },
  {
   "cell_type": "markdown",
   "metadata": {},
   "source": [
    "## Chlorine\n",
    "Chlorine tags are labeled with units of **mg/l** and **ug/l**. The latter is assumed to be **$\\dfrac{\\mu g}{l}$**.\n",
    "The scaling factor is determined from the conversion $1mg = 10^{-3}\\mu g$."
   ]
  },
  {
   "cell_type": "code",
   "execution_count": 182,
   "metadata": {},
   "outputs": [
    {
     "data": {
      "text/html": [
       "<div>\n",
       "<table border=\"1\" class=\"dataframe\">\n",
       "  <thead>\n",
       "    <tr style=\"text-align: right;\">\n",
       "      <th></th>\n",
       "      <th>CharacteristicName</th>\n",
       "      <th>Chlorine [mg/l]</th>\n",
       "      <th>Chlorine [ug/l]</th>\n",
       "    </tr>\n",
       "    <tr>\n",
       "      <th>MonitoringLocationIdentifier</th>\n",
       "      <th>dateTime</th>\n",
       "      <th></th>\n",
       "      <th></th>\n",
       "    </tr>\n",
       "  </thead>\n",
       "  <tbody>\n",
       "    <tr>\n",
       "      <th>INSTOR_WQX-13094</th>\n",
       "      <th>2008-05-16 16:45:00</th>\n",
       "      <td>0.66</td>\n",
       "      <td>0.01</td>\n",
       "    </tr>\n",
       "  </tbody>\n",
       "</table>\n",
       "</div>"
      ],
      "text/plain": [
       "CharacteristicName                                Chlorine [mg/l]  \\\n",
       "MonitoringLocationIdentifier dateTime                               \n",
       "INSTOR_WQX-13094             2008-05-16 16:45:00             0.66   \n",
       "\n",
       "CharacteristicName                                Chlorine [ug/l]  \n",
       "MonitoringLocationIdentifier dateTime                              \n",
       "INSTOR_WQX-13094             2008-05-16 16:45:00             0.01  "
      ]
     },
     "metadata": {},
     "output_type": "display_data"
    }
   ],
   "source": [
    "display(dfCharacteristics.filter(regex = 'Chlorine*').dropna()) # displays overlap in the units, second value seems bad"
   ]
  },
  {
   "cell_type": "code",
   "execution_count": 183,
   "metadata": {},
   "outputs": [
    {
     "name": "stdout",
     "output_type": "stream",
     "text": [
      "Chlorine [ug/l] deleted...\n"
     ]
    }
   ],
   "source": [
    "dfCharacteristics['Chlorine [ug/l]'].loc[dfCharacteristics['Chlorine [mg/l]'].notnull() &  \\\n",
    "                                         dfCharacteristics['Chlorine [ug/l]'].notnull()] = np.nan # delete bad point\n",
    "scales  = [1,1e-3]\n",
    "columns = ['Chlorine [mg/l]','Chlorine [ug/l]']\n",
    "dfCharacteristics = merge_scale_delete(dfCharacteristics,columns,scales)"
   ]
  },
  {
   "cell_type": "markdown",
   "metadata": {},
   "source": [
    "### Removing Outliers"
   ]
  },
  {
   "cell_type": "code",
   "execution_count": 184,
   "metadata": {},
   "outputs": [
    {
     "name": "stdout",
     "output_type": "stream",
     "text": [
      "Before Mean=13.959876 ----- After Mean=0.790913\n",
      "13 points deleted out of 174763 total.----------------------\n"
     ]
    }
   ],
   "source": [
    "dfCharacteristics['Chlorine [mg/l]'] = \\\n",
    "        outlier_std(dfCharacteristics['Chlorine [mg/l]'],stds=1,loops=2,plot=False)"
   ]
  },
  {
   "cell_type": "markdown",
   "metadata": {},
   "source": [
    "# Conductivity\n",
    "Conductivity tags are labeled with units of **uS/cm**(*microSiemens*) and **umho/cm**(*micromhos*). These units are equivalent.\n",
    "\n",
    "Typical values up to about 1500.\n",
    "http://fosc.org/WQData/WQParameters.htm"
   ]
  },
  {
   "cell_type": "code",
   "execution_count": 185,
   "metadata": {},
   "outputs": [
    {
     "data": {
      "text/html": [
       "<div>\n",
       "<table border=\"1\" class=\"dataframe\">\n",
       "  <thead>\n",
       "    <tr style=\"text-align: right;\">\n",
       "      <th></th>\n",
       "      <th>CharacteristicName</th>\n",
       "      <th>Conductivity [uS/cm]</th>\n",
       "      <th>Conductivity [umho/cm]</th>\n",
       "    </tr>\n",
       "    <tr>\n",
       "      <th>MonitoringLocationIdentifier</th>\n",
       "      <th>dateTime</th>\n",
       "      <th></th>\n",
       "      <th></th>\n",
       "    </tr>\n",
       "  </thead>\n",
       "  <tbody>\n",
       "  </tbody>\n",
       "</table>\n",
       "</div>"
      ],
      "text/plain": [
       "Empty DataFrame\n",
       "Columns: [Conductivity [uS/cm], Conductivity [umho/cm]]\n",
       "Index: []"
      ]
     },
     "metadata": {},
     "output_type": "display_data"
    }
   ],
   "source": [
    "display(dfCharacteristics.filter(regex = 'Conductivity*').dropna()) # no overlapping values"
   ]
  },
  {
   "cell_type": "code",
   "execution_count": 186,
   "metadata": {},
   "outputs": [
    {
     "name": "stdout",
     "output_type": "stream",
     "text": [
      "Conductivity [umho/cm] deleted...\n"
     ]
    }
   ],
   "source": [
    "scales  = [1,1]\n",
    "columns = ['Conductivity [uS/cm]','Conductivity [umho/cm]']\n",
    "dfCharacteristics = merge_scale_delete(dfCharacteristics,columns,scales)"
   ]
  },
  {
   "cell_type": "markdown",
   "metadata": {},
   "source": [
    "### Removing Outliers"
   ]
  },
  {
   "cell_type": "code",
   "execution_count": 187,
   "metadata": {},
   "outputs": [
    {
     "name": "stdout",
     "output_type": "stream",
     "text": [
      "Before Mean=354.012781 ----- After Mean=310.405866\n",
      "2 points deleted out of 174763 total.----------------------\n"
     ]
    }
   ],
   "source": [
    "dfCharacteristics['Conductivity [uS/cm]'] = \\\n",
    "    outlier_std(dfCharacteristics['Conductivity [uS/cm]'],stds=3,plot=False)"
   ]
  },
  {
   "cell_type": "markdown",
   "metadata": {},
   "source": [
    "# Depth\n",
    "Depth tags are labeled with units of **cm**, **ft**, and **m**. The preffered unit is the meter.\n",
    "Scale Factors: $\\dfrac{1m}{100cm}, \\quad \\dfrac{0.3048m}{1ft}$"
   ]
  },
  {
   "cell_type": "code",
   "execution_count": 188,
   "metadata": {},
   "outputs": [
    {
     "data": {
      "text/html": [
       "<div>\n",
       "<table border=\"1\" class=\"dataframe\">\n",
       "  <thead>\n",
       "    <tr style=\"text-align: right;\">\n",
       "      <th></th>\n",
       "      <th>CharacteristicName</th>\n",
       "      <th>Depth [cm]</th>\n",
       "      <th>Depth [ft]</th>\n",
       "      <th>Depth [m]</th>\n",
       "    </tr>\n",
       "    <tr>\n",
       "      <th>MonitoringLocationIdentifier</th>\n",
       "      <th>dateTime</th>\n",
       "      <th></th>\n",
       "      <th></th>\n",
       "      <th></th>\n",
       "    </tr>\n",
       "  </thead>\n",
       "  <tbody>\n",
       "  </tbody>\n",
       "</table>\n",
       "</div>"
      ],
      "text/plain": [
       "Empty DataFrame\n",
       "Columns: [Depth [cm], Depth [ft], Depth [m]]\n",
       "Index: []"
      ]
     },
     "metadata": {},
     "output_type": "display_data"
    }
   ],
   "source": [
    "display(dfCharacteristics.filter(regex = 'Depth*').dropna()) # no overlapping values"
   ]
  },
  {
   "cell_type": "code",
   "execution_count": 189,
   "metadata": {},
   "outputs": [
    {
     "name": "stdout",
     "output_type": "stream",
     "text": [
      "Depth [cm] deleted...\n",
      "Depth [ft] deleted...\n"
     ]
    }
   ],
   "source": [
    "scales  = [1,1/100,0.3048]\n",
    "columns = ['Depth [m]','Depth [cm]','Depth [ft]']\n",
    "dfCharacteristics = merge_scale_delete(dfCharacteristics,columns,scales)"
   ]
  },
  {
   "cell_type": "markdown",
   "metadata": {},
   "source": [
    "### Remove outliers"
   ]
  },
  {
   "cell_type": "code",
   "execution_count": 190,
   "metadata": {},
   "outputs": [
    {
     "name": "stdout",
     "output_type": "stream",
     "text": [
      "Before Mean=15.255071 ----- After Mean=12.990442\n",
      "15 points deleted out of 174763 total.----------------------\n"
     ]
    }
   ],
   "source": [
    "dfCharacteristics['Depth [m]'] = outlier_std(dfCharacteristics['Depth [m]'],stds=2,plot=False)"
   ]
  },
  {
   "cell_type": "markdown",
   "metadata": {},
   "source": [
    "# Escherichia coli (E-Coli)\n",
    "E-Coli tags are labeled with units of **#/100ml**, **CFU**(*Colony Forming Units*), **MPN/100 ml**, **MPN/100ml**, **cfu/100ml**, and **ug/l**. **MPN** are the Most Probable Number of CFU's in a given sample. Scaling factors are assumed all to be 1 for now."
   ]
  },
  {
   "cell_type": "code",
   "execution_count": 191,
   "metadata": {},
   "outputs": [
    {
     "data": {
      "text/html": [
       "<div>\n",
       "<table border=\"1\" class=\"dataframe\">\n",
       "  <thead>\n",
       "    <tr style=\"text-align: right;\">\n",
       "      <th></th>\n",
       "      <th>CharacteristicName</th>\n",
       "      <th>Escherichia coli [#/100ml]</th>\n",
       "      <th>Escherichia coli [CFU]</th>\n",
       "      <th>Escherichia coli [MPN/100 ml]</th>\n",
       "      <th>Escherichia coli [MPN/100ml]</th>\n",
       "      <th>Escherichia coli [cfu/100ml]</th>\n",
       "      <th>Escherichia coli [ug/l]</th>\n",
       "    </tr>\n",
       "    <tr>\n",
       "      <th>MonitoringLocationIdentifier</th>\n",
       "      <th>dateTime</th>\n",
       "      <th></th>\n",
       "      <th></th>\n",
       "      <th></th>\n",
       "      <th></th>\n",
       "      <th></th>\n",
       "      <th></th>\n",
       "    </tr>\n",
       "  </thead>\n",
       "  <tbody>\n",
       "  </tbody>\n",
       "</table>\n",
       "</div>"
      ],
      "text/plain": [
       "Empty DataFrame\n",
       "Columns: [Escherichia coli [#/100ml], Escherichia coli [CFU], Escherichia coli [MPN/100 ml], Escherichia coli [MPN/100ml], Escherichia coli [cfu/100ml], Escherichia coli [ug/l]]\n",
       "Index: []"
      ]
     },
     "metadata": {},
     "output_type": "display_data"
    }
   ],
   "source": [
    "display(dfCharacteristics.filter(regex = 'Escherichia*').dropna()) # no overlapping values"
   ]
  },
  {
   "cell_type": "code",
   "execution_count": 192,
   "metadata": {},
   "outputs": [
    {
     "name": "stdout",
     "output_type": "stream",
     "text": [
      "Escherichia coli [CFU] deleted...\n",
      "Escherichia coli [MPN/100 ml] deleted...\n",
      "Escherichia coli [MPN/100ml] deleted...\n",
      "Escherichia coli [cfu/100ml] deleted...\n",
      "Escherichia coli [ug/l] deleted...\n"
     ]
    }
   ],
   "source": [
    "scales  = [1,1,1,1,1,np.nan]\n",
    "columns = ['Escherichia coli [#/100ml]',    'Escherichia coli [CFU]',\n",
    "           'Escherichia coli [MPN/100 ml]', 'Escherichia coli [MPN/100ml]',\n",
    "           'Escherichia coli [cfu/100ml]',  'Escherichia coli [ug/l]']\n",
    "dfCharacteristics = merge_scale_delete(dfCharacteristics,columns,scales)"
   ]
  },
  {
   "cell_type": "markdown",
   "metadata": {},
   "source": [
    "### Remove outliers"
   ]
  },
  {
   "cell_type": "code",
   "execution_count": 193,
   "metadata": {},
   "outputs": [
    {
     "name": "stdout",
     "output_type": "stream",
     "text": [
      "Before Mean=1728.524675 ----- After Mean=470.400703\n",
      "1379 points deleted out of 174763 total.----------------------\n"
     ]
    }
   ],
   "source": [
    "dfCharacteristics['Escherichia coli [#/100ml]'] = \\\n",
    "                                outlier_std(dfCharacteristics['Escherichia coli [#/100ml]'],stds=1,loops=2,plot=False)"
   ]
  },
  {
   "cell_type": "markdown",
   "metadata": {},
   "source": [
    "# Floating garbage severity\n",
    "Catagorical data relating to the severity of the floating garbage. The column is first renamed and then set to catagorical datatype. The catagories may need to be rearranged in order of severity."
   ]
  },
  {
   "cell_type": "code",
   "execution_count": 194,
   "metadata": {
    "collapsed": true
   },
   "outputs": [],
   "source": [
    "oldname = 'Floating Garbage Severity (choice List) [code]' \n",
    "newname = 'Floating garbage [list]'\n",
    "dfCharacteristics = dfCharacteristics.rename(columns = {oldname : newname})\n",
    "dfCharacteristics[newname] = dfCharacteristics[newname].astype('category')"
   ]
  },
  {
   "cell_type": "code",
   "execution_count": 195,
   "metadata": {},
   "outputs": [
    {
     "data": {
      "text/plain": [
       "[NaN, None, Serious, Mild, Moderate, Extreme]\n",
       "Categories (5, object): [None, Serious, Mild, Moderate, Extreme]"
      ]
     },
     "metadata": {},
     "output_type": "display_data"
    }
   ],
   "source": [
    "display(dfCharacteristics['Floating garbage [list]'].unique()) # prints the unique values from this column"
   ]
  },
  {
   "cell_type": "markdown",
   "metadata": {},
   "source": [
    "# Floating algae mat severity\n",
    "Catagorical data relating to the severity of the floating algae mat. The column is first renamed and then set to catagorical datatype. The catagories may need to be rearranged in order of severity."
   ]
  },
  {
   "cell_type": "code",
   "execution_count": 196,
   "metadata": {},
   "outputs": [],
   "source": [
    "oldname = 'Floating algae mat - severity (choice list) [code]'\n",
    "newname = 'Floating algae mat [list]'\n",
    "dfCharacteristics = dfCharacteristics.rename(columns = {oldname : newname})\n",
    "dfCharacteristics[newname] = dfCharacteristics[newname].astype('category')"
   ]
  },
  {
   "cell_type": "code",
   "execution_count": 197,
   "metadata": {},
   "outputs": [
    {
     "data": {
      "text/plain": [
       "[NaN, None, Mild, Moderate]\n",
       "Categories (3, object): [None, Mild, Moderate]"
      ]
     },
     "execution_count": 197,
     "metadata": {},
     "output_type": "execute_result"
    }
   ],
   "source": [
    "dfCharacteristics['Floating algae mat [list]'].unique()"
   ]
  },
  {
   "cell_type": "markdown",
   "metadata": {},
   "source": [
    "# Floating debris severity\n",
    "Catagorical data relating to the severity of the floating debris. The column is first renamed and then set to catagorical datatype. The catagories may need to be rearranged in order of severity."
   ]
  },
  {
   "cell_type": "code",
   "execution_count": 198,
   "metadata": {
    "collapsed": true
   },
   "outputs": [],
   "source": [
    "oldname = 'Floating debris - severity (choice list) [code]'\n",
    "newname = 'Floating debris [list]'\n",
    "dfCharacteristics = dfCharacteristics.rename(columns = {oldname : newname})\n",
    "dfCharacteristics[newname] = dfCharacteristics[newname].astype('category')"
   ]
  },
  {
   "cell_type": "code",
   "execution_count": 199,
   "metadata": {},
   "outputs": [
    {
     "data": {
      "text/plain": [
       "[NaN, Moderate, None, Mild, Serious, Extreme]\n",
       "Categories (5, object): [Moderate, None, Mild, Serious, Extreme]"
      ]
     },
     "execution_count": 199,
     "metadata": {},
     "output_type": "execute_result"
    }
   ],
   "source": [
    "dfCharacteristics['Floating debris [list]'].unique()"
   ]
  },
  {
   "cell_type": "markdown",
   "metadata": {},
   "source": [
    "# Flow\n",
    "Flow tags are labeled with units of **cfs**, **ft3/sec**, and **m3/sec**. **m3/sec** is the prefered unit. **cfs** and **ft3/sec** are the same and have a scaling factor: $\\dfrac{0.0283168m^3}{1ft^3}$"
   ]
  },
  {
   "cell_type": "code",
   "execution_count": 200,
   "metadata": {},
   "outputs": [
    {
     "data": {
      "text/html": [
       "<div>\n",
       "<table border=\"1\" class=\"dataframe\">\n",
       "  <thead>\n",
       "    <tr style=\"text-align: right;\">\n",
       "      <th></th>\n",
       "      <th>CharacteristicName</th>\n",
       "      <th>Flow [cfs]</th>\n",
       "      <th>Flow [ft3/sec]</th>\n",
       "      <th>Flow [m3/sec]</th>\n",
       "    </tr>\n",
       "    <tr>\n",
       "      <th>MonitoringLocationIdentifier</th>\n",
       "      <th>dateTime</th>\n",
       "      <th></th>\n",
       "      <th></th>\n",
       "      <th></th>\n",
       "    </tr>\n",
       "  </thead>\n",
       "  <tbody>\n",
       "  </tbody>\n",
       "</table>\n",
       "</div>"
      ],
      "text/plain": [
       "Empty DataFrame\n",
       "Columns: [Flow [cfs], Flow [ft3/sec], Flow [m3/sec]]\n",
       "Index: []"
      ]
     },
     "metadata": {},
     "output_type": "display_data"
    }
   ],
   "source": [
    "display(dfCharacteristics.filter(regex = 'Flow *').dropna()) # no overlapping values"
   ]
  },
  {
   "cell_type": "code",
   "execution_count": 201,
   "metadata": {},
   "outputs": [
    {
     "name": "stdout",
     "output_type": "stream",
     "text": [
      "Flow [ft3/sec] deleted...\n",
      "Flow [cfs] deleted...\n"
     ]
    }
   ],
   "source": [
    "scales  = [1,0.0283168,0.0283168]\n",
    "columns = ['Flow [m3/sec]','Flow [ft3/sec]','Flow [cfs]']\n",
    "dfCharacteristics = merge_scale_delete(dfCharacteristics,columns,scales)"
   ]
  },
  {
   "cell_type": "markdown",
   "metadata": {},
   "source": [
    "### Remove outliers"
   ]
  },
  {
   "cell_type": "code",
   "execution_count": 202,
   "metadata": {},
   "outputs": [
    {
     "name": "stdout",
     "output_type": "stream",
     "text": [
      "Before Mean=30.074971 ----- After Mean=8.131068\n",
      "270 points deleted out of 174763 total.----------------------\n"
     ]
    }
   ],
   "source": [
    "dfCharacteristics['Flow [m3/sec]'] = outlier_std(dfCharacteristics['Flow [m3/sec]'],stds=3,loops=3,plot=False)"
   ]
  },
  {
   "cell_type": "markdown",
   "metadata": {},
   "source": [
    "# Nitrate\n",
    "Nitrate shows up as\n",
    "Scaling factors: $\\dfrac{4.4268 NO_3}{NO_3asN}, \\quad \\dfrac{1mg/L}{1000ppb}$\n",
    "\n",
    "Need to find conversion for mg/kg, and ueq/l.\n",
    "\n",
    "http://www.purewateroccasional.net/wtinitratesandnitrites.html"
   ]
  },
  {
   "cell_type": "code",
   "execution_count": 203,
   "metadata": {},
   "outputs": [
    {
     "data": {
      "text/html": [
       "<div>\n",
       "<table border=\"1\" class=\"dataframe\">\n",
       "  <thead>\n",
       "    <tr style=\"text-align: right;\">\n",
       "      <th></th>\n",
       "      <th>CharacteristicName</th>\n",
       "      <th>Nitrate [mg/kg as N]</th>\n",
       "      <th>Nitrate [mg/l as N]</th>\n",
       "      <th>Nitrate [mg/l asNO3]</th>\n",
       "      <th>Nitrate [mg/l]</th>\n",
       "      <th>Nitrate [ppb]</th>\n",
       "      <th>Nitrate [ueq/L]</th>\n",
       "    </tr>\n",
       "    <tr>\n",
       "      <th>MonitoringLocationIdentifier</th>\n",
       "      <th>dateTime</th>\n",
       "      <th></th>\n",
       "      <th></th>\n",
       "      <th></th>\n",
       "      <th></th>\n",
       "      <th></th>\n",
       "      <th></th>\n",
       "    </tr>\n",
       "  </thead>\n",
       "  <tbody>\n",
       "  </tbody>\n",
       "</table>\n",
       "</div>"
      ],
      "text/plain": [
       "Empty DataFrame\n",
       "Columns: [Nitrate [mg/kg as N], Nitrate [mg/l as N], Nitrate [mg/l asNO3], Nitrate [mg/l], Nitrate [ppb], Nitrate [ueq/L]]\n",
       "Index: []"
      ]
     },
     "metadata": {},
     "output_type": "display_data"
    }
   ],
   "source": [
    "display(dfCharacteristics.filter(regex = 'Nitrate *').dropna()) # no overlapping values"
   ]
  },
  {
   "cell_type": "code",
   "execution_count": 204,
   "metadata": {},
   "outputs": [
    {
     "name": "stdout",
     "output_type": "stream",
     "text": [
      "Nitrate [mg/l as N] deleted...\n",
      "Nitrate [mg/l asNO3] deleted...\n",
      "Nitrate [mg/kg as N] deleted...\n",
      "Nitrate [ppb] deleted...\n",
      "Nitrate [ueq/L] deleted...\n"
     ]
    }
   ],
   "source": [
    "scales  = [1,4.4268,1,np.nan,1/1000,np.nan]\n",
    "columns = ['Nitrate [mg/l]',      'Nitrate [mg/l as N]', 'Nitrate [mg/l asNO3]',\n",
    "           'Nitrate [mg/kg as N]', 'Nitrate [ppb]',       'Nitrate [ueq/L]']\n",
    "dfCharacteristics = merge_scale_delete(dfCharacteristics,columns,scales)"
   ]
  },
  {
   "cell_type": "code",
   "execution_count": 205,
   "metadata": {
    "scrolled": false
   },
   "outputs": [
    {
     "name": "stdout",
     "output_type": "stream",
     "text": [
      "Before Mean=7.583673 ----- After Mean=6.613152\n",
      "163 points deleted out of 174763 total.----------------------\n"
     ]
    }
   ],
   "source": [
    "dfCharacteristics['Nitrate [mg/l]'] = outlier_std(dfCharacteristics['Nitrate [mg/l]'],stds=3,loops=1,plot=False)"
   ]
  },
  {
   "cell_type": "markdown",
   "metadata": {},
   "source": [
    "# Precipitation\n",
    "Assume that these are the same units."
   ]
  },
  {
   "cell_type": "code",
   "execution_count": 206,
   "metadata": {},
   "outputs": [
    {
     "data": {
      "text/html": [
       "<div>\n",
       "<table border=\"1\" class=\"dataframe\">\n",
       "  <thead>\n",
       "    <tr style=\"text-align: right;\">\n",
       "      <th></th>\n",
       "      <th>CharacteristicName</th>\n",
       "      <th>Precipitation [in/week]</th>\n",
       "      <th>Precipitation [in]</th>\n",
       "    </tr>\n",
       "    <tr>\n",
       "      <th>MonitoringLocationIdentifier</th>\n",
       "      <th>dateTime</th>\n",
       "      <th></th>\n",
       "      <th></th>\n",
       "    </tr>\n",
       "  </thead>\n",
       "  <tbody>\n",
       "  </tbody>\n",
       "</table>\n",
       "</div>"
      ],
      "text/plain": [
       "Empty DataFrame\n",
       "Columns: [Precipitation [in/week], Precipitation [in]]\n",
       "Index: []"
      ]
     },
     "metadata": {},
     "output_type": "display_data"
    }
   ],
   "source": [
    "display(dfCharacteristics.filter(regex = 'Precipitation *').dropna()) # no overlapping values"
   ]
  },
  {
   "cell_type": "code",
   "execution_count": 207,
   "metadata": {},
   "outputs": [
    {
     "name": "stdout",
     "output_type": "stream",
     "text": [
      "Precipitation [in] deleted...\n"
     ]
    }
   ],
   "source": [
    "scales  = [1,1]\n",
    "columns = ['Precipitation [in/week]','Precipitation [in]']\n",
    "dfCharacteristics = merge_scale_delete(dfCharacteristics,columns,scales)"
   ]
  },
  {
   "cell_type": "markdown",
   "metadata": {},
   "source": [
    "### Remove outliers"
   ]
  },
  {
   "cell_type": "code",
   "execution_count": 208,
   "metadata": {},
   "outputs": [
    {
     "name": "stdout",
     "output_type": "stream",
     "text": [
      "Before Mean=0.837584 ----- After Mean=0.693548\n",
      "1 points deleted out of 174763 total.----------------------\n"
     ]
    }
   ],
   "source": [
    "dfCharacteristics['Precipitation [in/week]'] = \\\n",
    "                                outlier_std(dfCharacteristics['Precipitation [in/week]'],stds=5,loops=1,plot=False)"
   ]
  },
  {
   "cell_type": "markdown",
   "metadata": {},
   "source": [
    "# Sulfate\n",
    "mg/l chosen, this is considered the same as ppm. Equivalent weight of sulfate is 48."
   ]
  },
  {
   "cell_type": "code",
   "execution_count": 209,
   "metadata": {},
   "outputs": [
    {
     "data": {
      "text/html": [
       "<div>\n",
       "<table border=\"1\" class=\"dataframe\">\n",
       "  <thead>\n",
       "    <tr style=\"text-align: right;\">\n",
       "      <th></th>\n",
       "      <th>CharacteristicName</th>\n",
       "      <th>Sulfate [mg/kg]</th>\n",
       "      <th>Sulfate [mg/l]</th>\n",
       "      <th>Sulfate [ppm]</th>\n",
       "      <th>Sulfate [ueq/L]</th>\n",
       "    </tr>\n",
       "    <tr>\n",
       "      <th>MonitoringLocationIdentifier</th>\n",
       "      <th>dateTime</th>\n",
       "      <th></th>\n",
       "      <th></th>\n",
       "      <th></th>\n",
       "      <th></th>\n",
       "    </tr>\n",
       "  </thead>\n",
       "  <tbody>\n",
       "  </tbody>\n",
       "</table>\n",
       "</div>"
      ],
      "text/plain": [
       "Empty DataFrame\n",
       "Columns: [Sulfate [mg/kg], Sulfate [mg/l], Sulfate [ppm], Sulfate [ueq/L]]\n",
       "Index: []"
      ]
     },
     "metadata": {},
     "output_type": "display_data"
    }
   ],
   "source": [
    "display(dfCharacteristics.filter(regex = 'Sulfate *').dropna()) # no overlapping values"
   ]
  },
  {
   "cell_type": "code",
   "execution_count": 210,
   "metadata": {},
   "outputs": [
    {
     "name": "stdout",
     "output_type": "stream",
     "text": [
      "Sulfate [mg/kg] deleted...\n",
      "Sulfate [ppm] deleted...\n",
      "Sulfate [ueq/L] deleted...\n"
     ]
    }
   ],
   "source": [
    "scales  = [1,1,1,48/1000]\n",
    "columns = ['Sulfate [mg/l]', 'Sulfate [mg/kg]', 'Sulfate [ppm]', 'Sulfate [ueq/L]']\n",
    "dfCharacteristics = merge_scale_delete(dfCharacteristics,columns,scales)"
   ]
  },
  {
   "cell_type": "markdown",
   "metadata": {},
   "source": [
    "### Remove outliers"
   ]
  },
  {
   "cell_type": "code",
   "execution_count": 211,
   "metadata": {},
   "outputs": [
    {
     "name": "stdout",
     "output_type": "stream",
     "text": [
      "Before Mean=82.116349 ----- After Mean=58.431866\n",
      "935 points deleted out of 174763 total.----------------------\n"
     ]
    }
   ],
   "source": [
    "dfCharacteristics['Sulfate [mg/l]'] = outlier_std(dfCharacteristics['Sulfate [mg/l]'],stds=2,loops=1,plot=False)"
   ]
  },
  {
   "cell_type": "markdown",
   "metadata": {},
   "source": [
    "# Air Temperature\n",
    "There are no duplicate columns for air temperature therefore basic statistics are displayed and then outliers are removed."
   ]
  },
  {
   "cell_type": "code",
   "execution_count": 212,
   "metadata": {},
   "outputs": [
    {
     "data": {
      "text/plain": [
       "count    76.000000\n",
       "mean     23.543816\n",
       "std       5.520721\n",
       "min      10.000000\n",
       "25%      19.925000\n",
       "50%      24.000000\n",
       "75%      27.000000\n",
       "max      33.160000\n",
       "Name: Temperature, air [deg C], dtype: float64"
      ]
     },
     "execution_count": 212,
     "metadata": {},
     "output_type": "execute_result"
    }
   ],
   "source": [
    "dfCharacteristics['Temperature, air [deg C]'].describe(include='all')"
   ]
  },
  {
   "cell_type": "markdown",
   "metadata": {},
   "source": [
    "### Remove outliers"
   ]
  },
  {
   "cell_type": "code",
   "execution_count": 213,
   "metadata": {},
   "outputs": [
    {
     "name": "stdout",
     "output_type": "stream",
     "text": [
      "Before Mean=23.543816 ----- After Mean=23.543816\n",
      "0 points deleted out of 174763 total.----------------------\n"
     ]
    },
    {
     "data": {
      "text/plain": [
       "MonitoringLocationIdentifier  dateTime           \n",
       "11NPSWRD-INDU_01              2006-05-02 19:39:00    19.0\n",
       "                              2006-06-27 15:17:00    27.0\n",
       "                              2006-10-03 16:44:00    26.0\n",
       "                              2007-05-01 14:41:00    23.5\n",
       "                              2007-07-03 15:15:00    28.7\n",
       "                              2007-09-04 16:10:00    32.1\n",
       "                              2008-05-01 15:30:00    21.5\n",
       "                              2008-07-01 14:00:00    19.7\n",
       "                              2008-09-02 15:50:00    26.6\n",
       "11NPSWRD-INDU_02              2006-05-03 15:55:00    24.0\n",
       "                              2006-06-27 18:39:00    25.0\n",
       "                              2006-10-03 14:38:00    22.0\n",
       "11NPSWRD-INDU_04              2007-07-03 18:30:00     NaN\n",
       "                              2007-09-04 18:50:00     NaN\n",
       "                              2008-05-01 14:00:00    20.1\n",
       "                              2008-07-01 16:40:00    26.7\n",
       "                              2008-09-02 18:50:00    33.1\n",
       "11NPSWRD-INDU_05              2007-09-04 17:45:00     NaN\n",
       "                              2008-05-01 17:00:00    26.7\n",
       "                              2008-07-01 15:30:00    24.4\n",
       "                              2008-09-02 17:40:00    31.5\n",
       "11NPSWRD-LIBO_L1_ES3          2001-11-29 20:30:00     NaN\n",
       "                              2002-03-26 21:20:00     NaN\n",
       "11NPSWRD-LIBO_L1_LINSP        2002-07-10 18:00:00     NaN\n",
       "11NPSWRD-LIBO_L1_SGPL         2001-11-29 18:00:00     NaN\n",
       "                              2002-03-26 17:30:00     NaN\n",
       "11NPSWRD-LIBO_L1_STPOND       2002-07-10 15:30:00     NaN\n",
       "11NPSWRD-LIBO_L1_UDSR345      2001-11-29 19:30:00     NaN\n",
       "11NPSWRD-LIBO_NURE_1          1979-03-01 00:00:00     NaN\n",
       "11NPSWRD-LIBO_NURE_2          1979-03-02 00:00:00     NaN\n",
       "                                                     ... \n",
       "USN-384954086501101           1993-07-14 22:30:00     NaN\n",
       "USN-384958086492601           1993-07-22 15:00:00     NaN\n",
       "USN-384958086492602           1993-07-22 16:00:00     NaN\n",
       "USN-385000086493201           1993-07-22 14:10:00     NaN\n",
       "USN-385002086444101           1993-08-25 00:30:00     NaN\n",
       "USN-385002086493601           1993-07-13 23:00:00     NaN\n",
       "USN-385009086450901           1993-09-09 17:00:00     NaN\n",
       "USN-385014086453001           1993-08-25 16:00:00     NaN\n",
       "USN-385028086451501           1993-09-08 22:20:00     NaN\n",
       "USN-385032086453201           1993-09-10 15:00:00     NaN\n",
       "USN-385038086450401           1993-08-10 21:00:00     NaN\n",
       "USN-385039086450201           1993-08-10 23:00:00     NaN\n",
       "USN-385039086451101           1993-08-11 22:40:00     NaN\n",
       "USN-385039086451201           1993-08-11 23:25:00     NaN\n",
       "USN-385040086445801           1993-08-04 22:10:00     NaN\n",
       "USN-385041086445601           1993-08-23 23:30:00     NaN\n",
       "USN-385041086451501           1993-08-11 18:25:00     NaN\n",
       "USN-385042086450202           1993-08-05 15:55:00     NaN\n",
       "USN-385042086450501           1993-08-06 15:00:00     NaN\n",
       "USN-385042086451701           1993-08-11 16:00:00     NaN\n",
       "USN-385043086450601           1993-08-05 19:20:00     NaN\n",
       "USN-385044086451101           1993-08-03 20:45:00     NaN\n",
       "USN-385045086450201           1993-08-11 15:00:00     NaN\n",
       "USN-385045086451102           1993-08-04 15:10:00     NaN\n",
       "USN-385045086451601           1993-08-04 20:45:00     NaN\n",
       "USN-385047086450701           1993-08-10 17:30:00     NaN\n",
       "USN-385049086451001           1993-08-12 19:30:00     NaN\n",
       "USN-385049086451502           1993-08-04 17:50:00     NaN\n",
       "USN-385049086451503           1993-08-04 17:00:00     NaN\n",
       "USN-385110086450701           1993-09-10 17:40:00     NaN\n",
       "Name: Temperature, air [deg C], dtype: float64"
      ]
     },
     "execution_count": 213,
     "metadata": {},
     "output_type": "execute_result"
    }
   ],
   "source": [
    "outlier_std(dfCharacteristics['Temperature, air [deg C]'],stds=3,loops=1,plot=False)"
   ]
  },
  {
   "cell_type": "markdown",
   "metadata": {},
   "source": [
    "# Water Temperature\n",
    "There are no dupilicate columns for water temperature therefore basic statistics are displayed adn then outliers are removed."
   ]
  },
  {
   "cell_type": "code",
   "execution_count": 214,
   "metadata": {},
   "outputs": [
    {
     "data": {
      "text/plain": [
       "count    131453.000000\n",
       "mean         15.972765\n",
       "std           8.861253\n",
       "min          -5.566875\n",
       "25%          10.710000\n",
       "50%          16.960000\n",
       "75%          22.000000\n",
       "max        1214.000000\n",
       "Name: Temperature, water [deg C], dtype: float64"
      ]
     },
     "execution_count": 214,
     "metadata": {},
     "output_type": "execute_result"
    }
   ],
   "source": [
    "dfCharacteristics['Temperature, water [deg C]'].describe(include='all')"
   ]
  },
  {
   "cell_type": "code",
   "execution_count": 215,
   "metadata": {},
   "outputs": [
    {
     "name": "stdout",
     "output_type": "stream",
     "text": [
      "Before Mean=15.972765 ----- After Mean=15.926957\n",
      "41 points deleted out of 174763 total.----------------------\n"
     ]
    }
   ],
   "source": [
    "dfCharacteristics['Temperature, water [deg C]'] = \\\n",
    "                            outlier_std(dfCharacteristics['Temperature, water [deg C]'],stds=3,loops=1,plot=False)"
   ]
  },
  {
   "cell_type": "markdown",
   "metadata": {},
   "source": [
    "# Total suspended solids\n",
    "\n",
    "Raw sewage is 350mg/L so probably shouldn't be any higher than that.\n",
    "\n",
    "http://www.deltaenvironmental.com.au/management/Lab_methods/suspended_solids.htm"
   ]
  },
  {
   "cell_type": "code",
   "execution_count": 216,
   "metadata": {},
   "outputs": [
    {
     "data": {
      "text/plain": [
       "count    66577.000000\n",
       "mean        40.159208\n",
       "std        215.275965\n",
       "min         -1.000000\n",
       "25%          8.000000\n",
       "50%         16.000000\n",
       "75%         38.000000\n",
       "max      35800.000000\n",
       "Name: Total suspended solids [mg/l], dtype: float64"
      ]
     },
     "execution_count": 216,
     "metadata": {},
     "output_type": "execute_result"
    }
   ],
   "source": [
    "dfCharacteristics['Total suspended solids [mg/l]'].describe(include='all')"
   ]
  },
  {
   "cell_type": "markdown",
   "metadata": {},
   "source": [
    "### Remove outliers"
   ]
  },
  {
   "cell_type": "code",
   "execution_count": 217,
   "metadata": {},
   "outputs": [
    {
     "name": "stdout",
     "output_type": "stream",
     "text": [
      "Before Mean=40.159208 ----- After Mean=32.304207\n",
      "624 points deleted out of 174763 total.----------------------\n"
     ]
    }
   ],
   "source": [
    "dfCharacteristics['Total suspended solids [mg/l]'] = \\\n",
    "                        outlier_std(dfCharacteristics['Total suspended solids [mg/l]'],stds=1.5,loops=1,plot=False)"
   ]
  },
  {
   "cell_type": "markdown",
   "metadata": {},
   "source": [
    "# Turbidity\n",
    "NTU chosen\n",
    "\n",
    "Can be up to 1000 NTU\n",
    "\n",
    "Lots of unit conversion need to be found for this characteristic.\n",
    "\n",
    "www.waterboards.ca.gov/water_issues/programs/swamp/docs/cwt/guidance/3150en.pdf"
   ]
  },
  {
   "cell_type": "code",
   "execution_count": 218,
   "metadata": {
    "scrolled": true
   },
   "outputs": [
    {
     "data": {
      "text/html": [
       "<div>\n",
       "<table border=\"1\" class=\"dataframe\">\n",
       "  <thead>\n",
       "    <tr style=\"text-align: right;\">\n",
       "      <th></th>\n",
       "      <th>CharacteristicName</th>\n",
       "      <th>Turbidity [FNRU]</th>\n",
       "      <th>Turbidity [FNU]</th>\n",
       "      <th>Turbidity [JTU]</th>\n",
       "      <th>Turbidity [NTRU]</th>\n",
       "      <th>Turbidity [NTU]</th>\n",
       "      <th>Turbidity [None]</th>\n",
       "      <th>Turbidity [mg/l SiO2]</th>\n",
       "      <th>Turbidity [mg/l]</th>\n",
       "      <th>Turbidity [pCi/L]</th>\n",
       "      <th>Turbidity [pg/l]</th>\n",
       "    </tr>\n",
       "    <tr>\n",
       "      <th>MonitoringLocationIdentifier</th>\n",
       "      <th>dateTime</th>\n",
       "      <th></th>\n",
       "      <th></th>\n",
       "      <th></th>\n",
       "      <th></th>\n",
       "      <th></th>\n",
       "      <th></th>\n",
       "      <th></th>\n",
       "      <th></th>\n",
       "      <th></th>\n",
       "      <th></th>\n",
       "    </tr>\n",
       "  </thead>\n",
       "  <tbody>\n",
       "  </tbody>\n",
       "</table>\n",
       "</div>"
      ],
      "text/plain": [
       "Empty DataFrame\n",
       "Columns: [Turbidity [FNRU], Turbidity [FNU], Turbidity [JTU], Turbidity [NTRU], Turbidity [NTU], Turbidity [None], Turbidity [mg/l SiO2], Turbidity [mg/l], Turbidity [pCi/L], Turbidity [pg/l]]\n",
       "Index: []"
      ]
     },
     "metadata": {},
     "output_type": "display_data"
    }
   ],
   "source": [
    "display(dfCharacteristics.filter(regex = 'Turbidity *').dropna()) # no overlapping values"
   ]
  },
  {
   "cell_type": "code",
   "execution_count": 219,
   "metadata": {
    "scrolled": false
   },
   "outputs": [
    {
     "data": {
      "text/html": [
       "<div>\n",
       "<table border=\"1\" class=\"dataframe\">\n",
       "  <thead>\n",
       "    <tr style=\"text-align: right;\">\n",
       "      <th>CharacteristicName</th>\n",
       "      <th>Turbidity [FNRU]</th>\n",
       "      <th>Turbidity [FNU]</th>\n",
       "      <th>Turbidity [JTU]</th>\n",
       "      <th>Turbidity [NTRU]</th>\n",
       "      <th>Turbidity [NTU]</th>\n",
       "      <th>Turbidity [None]</th>\n",
       "      <th>Turbidity [mg/l SiO2]</th>\n",
       "      <th>Turbidity [mg/l]</th>\n",
       "      <th>Turbidity [pCi/L]</th>\n",
       "      <th>Turbidity [pg/l]</th>\n",
       "    </tr>\n",
       "  </thead>\n",
       "  <tbody>\n",
       "    <tr>\n",
       "      <th>count</th>\n",
       "      <td>14.000000</td>\n",
       "      <td>832.000000</td>\n",
       "      <td>390.000000</td>\n",
       "      <td>1232.000000</td>\n",
       "      <td>97663.000000</td>\n",
       "      <td>1.00</td>\n",
       "      <td>56.000000</td>\n",
       "      <td>26.000000</td>\n",
       "      <td>4.00000</td>\n",
       "      <td>2.000000</td>\n",
       "    </tr>\n",
       "    <tr>\n",
       "      <th>mean</th>\n",
       "      <td>46.935714</td>\n",
       "      <td>35.505769</td>\n",
       "      <td>48.135897</td>\n",
       "      <td>44.517776</td>\n",
       "      <td>40.695703</td>\n",
       "      <td>5.43</td>\n",
       "      <td>8.625000</td>\n",
       "      <td>35.033846</td>\n",
       "      <td>51.53000</td>\n",
       "      <td>87.150000</td>\n",
       "    </tr>\n",
       "    <tr>\n",
       "      <th>std</th>\n",
       "      <td>94.517378</td>\n",
       "      <td>83.167806</td>\n",
       "      <td>98.764395</td>\n",
       "      <td>65.434566</td>\n",
       "      <td>116.916206</td>\n",
       "      <td>NaN</td>\n",
       "      <td>7.800519</td>\n",
       "      <td>101.337722</td>\n",
       "      <td>72.14864</td>\n",
       "      <td>98.782817</td>\n",
       "    </tr>\n",
       "    <tr>\n",
       "      <th>min</th>\n",
       "      <td>0.000000</td>\n",
       "      <td>0.000000</td>\n",
       "      <td>1.000000</td>\n",
       "      <td>0.100000</td>\n",
       "      <td>-577.000000</td>\n",
       "      <td>5.43</td>\n",
       "      <td>0.000000</td>\n",
       "      <td>1.900000</td>\n",
       "      <td>7.82000</td>\n",
       "      <td>17.300000</td>\n",
       "    </tr>\n",
       "    <tr>\n",
       "      <th>25%</th>\n",
       "      <td>14.500000</td>\n",
       "      <td>7.000000</td>\n",
       "      <td>4.000000</td>\n",
       "      <td>6.800000</td>\n",
       "      <td>7.110000</td>\n",
       "      <td>5.43</td>\n",
       "      <td>1.750000</td>\n",
       "      <td>3.250000</td>\n",
       "      <td>10.80500</td>\n",
       "      <td>52.225000</td>\n",
       "    </tr>\n",
       "    <tr>\n",
       "      <th>50%</th>\n",
       "      <td>21.000000</td>\n",
       "      <td>16.000000</td>\n",
       "      <td>10.500000</td>\n",
       "      <td>20.000000</td>\n",
       "      <td>14.300000</td>\n",
       "      <td>5.43</td>\n",
       "      <td>5.500000</td>\n",
       "      <td>5.390000</td>\n",
       "      <td>19.65000</td>\n",
       "      <td>87.150000</td>\n",
       "    </tr>\n",
       "    <tr>\n",
       "      <th>75%</th>\n",
       "      <td>32.000000</td>\n",
       "      <td>39.000000</td>\n",
       "      <td>46.500000</td>\n",
       "      <td>57.000000</td>\n",
       "      <td>34.100000</td>\n",
       "      <td>5.43</td>\n",
       "      <td>15.000000</td>\n",
       "      <td>6.612500</td>\n",
       "      <td>60.37500</td>\n",
       "      <td>122.075000</td>\n",
       "    </tr>\n",
       "    <tr>\n",
       "      <th>max</th>\n",
       "      <td>370.000000</td>\n",
       "      <td>1470.000000</td>\n",
       "      <td>1100.000000</td>\n",
       "      <td>900.000000</td>\n",
       "      <td>5999.000000</td>\n",
       "      <td>5.43</td>\n",
       "      <td>30.000000</td>\n",
       "      <td>502.000000</td>\n",
       "      <td>159.00000</td>\n",
       "      <td>157.000000</td>\n",
       "    </tr>\n",
       "  </tbody>\n",
       "</table>\n",
       "</div>"
      ],
      "text/plain": [
       "CharacteristicName  Turbidity [FNRU]  Turbidity [FNU]  Turbidity [JTU]  \\\n",
       "count                      14.000000       832.000000       390.000000   \n",
       "mean                       46.935714        35.505769        48.135897   \n",
       "std                        94.517378        83.167806        98.764395   \n",
       "min                         0.000000         0.000000         1.000000   \n",
       "25%                        14.500000         7.000000         4.000000   \n",
       "50%                        21.000000        16.000000        10.500000   \n",
       "75%                        32.000000        39.000000        46.500000   \n",
       "max                       370.000000      1470.000000      1100.000000   \n",
       "\n",
       "CharacteristicName  Turbidity [NTRU]  Turbidity [NTU]  Turbidity [None]  \\\n",
       "count                    1232.000000     97663.000000              1.00   \n",
       "mean                       44.517776        40.695703              5.43   \n",
       "std                        65.434566       116.916206               NaN   \n",
       "min                         0.100000      -577.000000              5.43   \n",
       "25%                         6.800000         7.110000              5.43   \n",
       "50%                        20.000000        14.300000              5.43   \n",
       "75%                        57.000000        34.100000              5.43   \n",
       "max                       900.000000      5999.000000              5.43   \n",
       "\n",
       "CharacteristicName  Turbidity [mg/l SiO2]  Turbidity [mg/l]  \\\n",
       "count                           56.000000         26.000000   \n",
       "mean                             8.625000         35.033846   \n",
       "std                              7.800519        101.337722   \n",
       "min                              0.000000          1.900000   \n",
       "25%                              1.750000          3.250000   \n",
       "50%                              5.500000          5.390000   \n",
       "75%                             15.000000          6.612500   \n",
       "max                             30.000000        502.000000   \n",
       "\n",
       "CharacteristicName  Turbidity [pCi/L]  Turbidity [pg/l]  \n",
       "count                         4.00000          2.000000  \n",
       "mean                         51.53000         87.150000  \n",
       "std                          72.14864         98.782817  \n",
       "min                           7.82000         17.300000  \n",
       "25%                          10.80500         52.225000  \n",
       "50%                          19.65000         87.150000  \n",
       "75%                          60.37500        122.075000  \n",
       "max                         159.00000        157.000000  "
      ]
     },
     "execution_count": 219,
     "metadata": {},
     "output_type": "execute_result"
    }
   ],
   "source": [
    "dfCharacteristics.filter(regex = 'Turbidity *').describe() # column statists are displayed to assist with units"
   ]
  },
  {
   "cell_type": "code",
   "execution_count": 220,
   "metadata": {},
   "outputs": [
    {
     "name": "stdout",
     "output_type": "stream",
     "text": [
      "Turbidity [FNRU] deleted...\n",
      "Turbidity [FNU] deleted...\n",
      "Turbidity [JTU] deleted...\n",
      "Turbidity [NTRU] deleted...\n",
      "Turbidity [None] deleted...\n",
      "Turbidity [mg/l SiO2] deleted...\n",
      "Turbidity [mg/l] deleted...\n",
      "Turbidity [pCi/L] deleted...\n",
      "Turbidity [pg/l] deleted...\n"
     ]
    }
   ],
   "source": [
    "scales  = [1,       1.,      1.,     1.,\n",
    "           1.,      np.nan,  np.nan, 1.,\n",
    "           np.nan,  np.nan  ]\n",
    "columns = ['Turbidity [NTU]',  'Turbidity [FNRU]', 'Turbidity [FNU]',       'Turbidity [JTU]',\n",
    "           'Turbidity [NTRU]', 'Turbidity [None]', 'Turbidity [mg/l SiO2]', 'Turbidity [mg/l]',\n",
    "           'Turbidity [pCi/L]','Turbidity [pg/l]']\n",
    "dfCharacteristics = merge_scale_delete(dfCharacteristics,columns,scales)"
   ]
  },
  {
   "cell_type": "markdown",
   "metadata": {},
   "source": [
    "### Remove outliers"
   ]
  },
  {
   "cell_type": "code",
   "execution_count": 222,
   "metadata": {},
   "outputs": [
    {
     "name": "stdout",
     "output_type": "stream",
     "text": [
      "Before Mean=36.335061 ----- After Mean=34.281940\n",
      "287 points deleted out of 174763 total.----------------------\n"
     ]
    },
    {
     "data": {
      "image/png": "[encoded data removed]",
      "text/plain": [
       "<matplotlib.figure.Figure at 0x7f69a140eda0>"
      ]
     },
     "metadata": {},
     "output_type": "display_data"
    },
    {
     "data": {
      "image/png": "[encoded data removed]",
      "text/plain": [
       "<matplotlib.figure.Figure at 0x7f69bb9a8a90>"
      ]
     },
     "metadata": {},
     "output_type": "display_data"
    }
   ],
   "source": [
    "dfCharacteristics.loc[dfCharacteristics['Turbidity [NTU]'] < 0,['Turbidity [NTU]']] = np.nan # delete negatives\n",
    "dfCharacteristics['Turbidity [NTU]'] = outlier_std(dfCharacteristics['Turbidity [NTU]'],stds=8,loops=1,plot=True)"
   ]
  },
  {
   "cell_type": "markdown",
   "metadata": {},
   "source": [
    "# Wind direction"
   ]
  },
  {
   "cell_type": "code",
   "execution_count": 223,
   "metadata": {
    "collapsed": true
   },
   "outputs": [],
   "source": [
    "oldname = 'Wind direction (direction from, expressed 0-360 deg) [Deg]'\n",
    "newname = 'Wind direction [deg]'\n",
    "dfCharacteristics = dfCharacteristics.rename(columns = {oldname : newname})\n",
    "dfCharacteristics[newname] = dfCharacteristics[newname]"
   ]
  },
  {
   "cell_type": "markdown",
   "metadata": {},
   "source": [
    "### Remove outliers"
   ]
  },
  {
   "cell_type": "code",
   "execution_count": 224,
   "metadata": {},
   "outputs": [
    {
     "name": "stdout",
     "output_type": "stream",
     "text": [
      "Before Mean=187.314815 ----- After Mean=187.314815\n",
      "0 points deleted out of 174763 total.----------------------\n"
     ]
    }
   ],
   "source": [
    "outlier_std(dfCharacteristics['Wind direction [deg]'],stds=3,loops=1,plot=False);"
   ]
  },
  {
   "cell_type": "markdown",
   "metadata": {},
   "source": [
    "# Wind velocity\n",
    "m/s chosen"
   ]
  },
  {
   "cell_type": "code",
   "execution_count": 225,
   "metadata": {},
   "outputs": [
    {
     "data": {
      "text/html": [
       "<div>\n",
       "<table border=\"1\" class=\"dataframe\">\n",
       "  <thead>\n",
       "    <tr style=\"text-align: right;\">\n",
       "      <th></th>\n",
       "      <th>CharacteristicName</th>\n",
       "      <th>Wind velocity [m/sec]</th>\n",
       "      <th>Wind velocity [mph]</th>\n",
       "    </tr>\n",
       "    <tr>\n",
       "      <th>MonitoringLocationIdentifier</th>\n",
       "      <th>dateTime</th>\n",
       "      <th></th>\n",
       "      <th></th>\n",
       "    </tr>\n",
       "  </thead>\n",
       "  <tbody>\n",
       "  </tbody>\n",
       "</table>\n",
       "</div>"
      ],
      "text/plain": [
       "Empty DataFrame\n",
       "Columns: [Wind velocity [m/sec], Wind velocity [mph]]\n",
       "Index: []"
      ]
     },
     "metadata": {},
     "output_type": "display_data"
    }
   ],
   "source": [
    "display(dfCharacteristics.filter(regex = 'Wind velocity *').dropna()) # no overlapping values"
   ]
  },
  {
   "cell_type": "code",
   "execution_count": 226,
   "metadata": {},
   "outputs": [
    {
     "name": "stdout",
     "output_type": "stream",
     "text": [
      "Wind velocity [mph] deleted...\n"
     ]
    }
   ],
   "source": [
    "scales  = [1,0.44704]\n",
    "columns = ['Wind velocity [m/sec]','Wind velocity [mph]']\n",
    "dfCharacteristics = merge_scale_delete(dfCharacteristics,columns,scales)"
   ]
  },
  {
   "cell_type": "markdown",
   "metadata": {},
   "source": [
    "### Remove outliers"
   ]
  },
  {
   "cell_type": "code",
   "execution_count": 227,
   "metadata": {},
   "outputs": [
    {
     "name": "stdout",
     "output_type": "stream",
     "text": [
      "Before Mean=5.109117 ----- After Mean=5.109117\n",
      "0 points deleted out of 174763 total.----------------------\n"
     ]
    }
   ],
   "source": [
    "outlier_std(dfCharacteristics['Wind velocity [m/sec]'],stds=3,loops=1,plot=False);"
   ]
  },
  {
   "cell_type": "markdown",
   "metadata": {},
   "source": [
    "# pH"
   ]
  },
  {
   "cell_type": "code",
   "execution_count": 228,
   "metadata": {},
   "outputs": [
    {
     "data": {
      "text/html": [
       "<div>\n",
       "<table border=\"1\" class=\"dataframe\">\n",
       "  <thead>\n",
       "    <tr style=\"text-align: right;\">\n",
       "      <th></th>\n",
       "      <th>CharacteristicName</th>\n",
       "      <th>pH [None]</th>\n",
       "      <th>pH []</th>\n",
       "      <th>pH [mg/l]</th>\n",
       "      <th>pH [std units]</th>\n",
       "    </tr>\n",
       "    <tr>\n",
       "      <th>MonitoringLocationIdentifier</th>\n",
       "      <th>dateTime</th>\n",
       "      <th></th>\n",
       "      <th></th>\n",
       "      <th></th>\n",
       "      <th></th>\n",
       "    </tr>\n",
       "  </thead>\n",
       "  <tbody>\n",
       "  </tbody>\n",
       "</table>\n",
       "</div>"
      ],
      "text/plain": [
       "Empty DataFrame\n",
       "Columns: [pH [None], pH [], pH [mg/l], pH [std units]]\n",
       "Index: []"
      ]
     },
     "metadata": {},
     "output_type": "display_data"
    }
   ],
   "source": [
    "display(dfCharacteristics.filter(regex = 'pH *').dropna()) # no overlapping values"
   ]
  },
  {
   "cell_type": "code",
   "execution_count": 229,
   "metadata": {},
   "outputs": [
    {
     "name": "stdout",
     "output_type": "stream",
     "text": [
      "pH [] deleted...\n",
      "pH [mg/l] deleted...\n",
      "pH [std units] deleted...\n"
     ]
    }
   ],
   "source": [
    "scales  = [1,1,1,1]\n",
    "columns = ['pH [None]', 'pH []', 'pH [mg/l]', 'pH [std units]']\n",
    "dfCharacteristics = merge_scale_delete(dfCharacteristics,columns,scales)"
   ]
  },
  {
   "cell_type": "markdown",
   "metadata": {},
   "source": [
    "### Remove outliers"
   ]
  },
  {
   "cell_type": "code",
   "execution_count": 230,
   "metadata": {},
   "outputs": [
    {
     "name": "stdout",
     "output_type": "stream",
     "text": [
      "Before Mean=7.899163 ----- After Mean=7.899815\n",
      "1164 points deleted out of 174763 total.----------------------\n"
     ]
    }
   ],
   "source": [
    "dfCharacteristics['pH [None]'] = outlier_std(dfCharacteristics['pH [None]'],stds=5,loops=2,plot=False)"
   ]
  },
  {
   "cell_type": "markdown",
   "metadata": {},
   "source": [
    "# Export"
   ]
  },
  {
   "cell_type": "code",
   "execution_count": 231,
   "metadata": {
    "collapsed": true
   },
   "outputs": [],
   "source": [
    "dfCharacteristics.to_pickle('characteristics.p')\n",
    "dfCharacteristics.to_csv('characteristics.csv')"
   ]
  },
  {
   "cell_type": "code",
   "execution_count": null,
   "metadata": {
    "collapsed": true
   },
   "outputs": [],
   "source": []
  },
  {
   "cell_type": "code",
   "execution_count": 232,
   "metadata": {
    "scrolled": false
   },
   "outputs": [
    {
     "data": {
      "text/plain": [
       "['Barometric pressure [mm/Hg]',\n",
       " 'Chlorine [mg/l]',\n",
       " 'Conductivity [uS/cm]',\n",
       " 'Depth [m]',\n",
       " 'Escherichia coli [#/100ml]',\n",
       " 'Floating garbage [list]',\n",
       " 'Floating algae mat [list]',\n",
       " 'Floating debris [list]',\n",
       " 'Flow [m3/sec]',\n",
       " 'Nitrate [mg/l]',\n",
       " 'Precipitation [in/week]',\n",
       " 'Sulfate [mg/l]',\n",
       " 'Temperature, air [deg C]',\n",
       " 'Temperature, water [deg C]',\n",
       " 'Total suspended solids [mg/l]',\n",
       " 'Turbidity [NTU]',\n",
       " 'Wind direction [deg]',\n",
       " 'Wind velocity [m/sec]',\n",
       " 'pH [None]']"
      ]
     },
     "execution_count": 232,
     "metadata": {},
     "output_type": "execute_result"
    }
   ],
   "source": [
    "list(dfCharacteristics)"
   ]
  },
  {
   "cell_type": "code",
   "execution_count": 233,
   "metadata": {},
   "outputs": [
    {
     "ename": "NameError",
     "evalue": "name 'DataFrameSummary' is not defined",
     "output_type": "error",
     "traceback": [
      "\u001b[0;31m---------------------------------------------------------------------------\u001b[0m",
      "\u001b[0;31mNameError\u001b[0m                                 Traceback (most recent call last)",
      "\u001b[0;32m<ipython-input-233-243d7af4aeee>\u001b[0m in \u001b[0;36m<module>\u001b[0;34m()\u001b[0m\n\u001b[0;32m----> 1\u001b[0;31m \u001b[0mdfs\u001b[0m \u001b[0;34m=\u001b[0m \u001b[0mDataFrameSummary\u001b[0m\u001b[0;34m(\u001b[0m\u001b[0mdfCharacteristics\u001b[0m\u001b[0;34m)\u001b[0m\u001b[0;34m\u001b[0m\u001b[0m\n\u001b[0m",
      "\u001b[0;31mNameError\u001b[0m: name 'DataFrameSummary' is not defined"
     ]
    }
   ],
   "source": [
    "dfs = DataFrameSummary(dfCharacteristics)"
   ]
  },
  {
   "cell_type": "code",
   "execution_count": null,
   "metadata": {
    "scrolled": false
   },
   "outputs": [],
   "source": [
    "dfs.summary()"
   ]
  },
  {
   "cell_type": "code",
   "execution_count": null,
   "metadata": {
    "collapsed": true
   },
   "outputs": [],
   "source": []
  },
  {
   "cell_type": "code",
   "execution_count": null,
   "metadata": {
    "collapsed": true,
    "scrolled": false
   },
   "outputs": [],
   "source": []
  },
  {
   "cell_type": "code",
   "execution_count": null,
   "metadata": {
    "collapsed": true
   },
   "outputs": [],
   "source": []
  },
  {
   "cell_type": "code",
   "execution_count": null,
   "metadata": {
    "collapsed": true,
    "scrolled": false
   },
   "outputs": [],
   "source": [
    "#for (i,j,k) in itertools.combinations(range(0,len(dfCharacteristics.columns)),3):\n",
    "#    if len(dfCharacteristics.iloc[:,(i,j,k)].dropna()) > 1:\n",
    "#        try:\n",
    "#            sns.interactplot(dfCharacteristics.iloc[:,(i,j,k)].columns.values[0],\n",
    "#                             dfCharacteristics.iloc[:,(i,j,k)].columns.values[1],\n",
    "#                             dfCharacteristics.iloc[:,(i,j,k)].columns.values[2],\n",
    "#                             dfCharacteristics)\n",
    "#        except:\n",
    "#            continue"
   ]
  },
  {
   "cell_type": "code",
   "execution_count": null,
   "metadata": {
    "collapsed": true
   },
   "outputs": [],
   "source": []
  },
  {
   "cell_type": "code",
   "execution_count": null,
   "metadata": {
    "collapsed": true
   },
   "outputs": [],
   "source": [
    "#from bokeh.plotting import figure, show\n",
    "#from bokeh.io import output_notebook\n",
    "#p = figure()\n",
    "#p.circle(dfCharacteristics['dateTime'], dfCharacteristics['Sulfate [mg/l]'])\n",
    "#output_notebook()\n",
    "#show(p)"
   ]
  },
  {
   "cell_type": "code",
   "execution_count": null,
   "metadata": {
    "collapsed": true
   },
   "outputs": [],
   "source": []
  },
  {
   "cell_type": "code",
   "execution_count": null,
   "metadata": {},
   "outputs": [],
   "source": [
    "display(dfCharacteristics.iloc[0,:])"
   ]
  },
  {
   "cell_type": "code",
   "execution_count": null,
   "metadata": {},
   "outputs": [],
   "source": [
    "dfCharacteristics.var(level=0)"
   ]
  },
  {
   "cell_type": "code",
   "execution_count": null,
   "metadata": {
    "scrolled": false
   },
   "outputs": [],
   "source": [
    "dfCharacteristics.corr()"
   ]
  }
 ],
 "metadata": {
  "kernelspec": {
   "display_name": "Python 3",
   "language": "python",
   "name": "python3"
  },
  "language_info": {
   "codemirror_mode": {
    "name": "ipython",
    "version": 3
   },
   "file_extension": ".py",
   "mimetype": "text/x-python",
   "name": "python",
   "nbconvert_exporter": "python",
   "pygments_lexer": "ipython3",
   "version": "3.6.0"
  }
 },
 "nbformat": 4,
 "nbformat_minor": 2
}
